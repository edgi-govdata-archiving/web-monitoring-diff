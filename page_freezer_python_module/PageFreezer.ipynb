{
 "cells": [
  {
   "cell_type": "code",
   "execution_count": 3,
   "metadata": {
    "collapsed": false,
    "deletable": true,
    "editable": true
   },
   "outputs": [],
   "source": [
    "import requests\n",
    "import json\n",
    "import pandas as pd \n",
    "\n",
    "class PageFreezer:\n",
    "\n",
    "    state_lookup = { -1: \"Removal\", 0: \"Change\", 1: \"Addition\" }\n",
    "    \n",
    "    def __init__(self,url_1, url_2, api_key = None):\n",
    "        self.api_key = api_key\n",
    "        self.url_1 = url_1 \n",
    "        self.url_2 = url_2 \n",
    "        self.run_query()\n",
    "        self.parse_to_df()\n",
    "        self.report()\n",
    "\n",
    "    def report(self):\n",
    "        print(\"Delta Score: \", self.query_result['delta_score'], \" Number of changes: \",len(self.dataframe) )\n",
    "        counts = self.dataframe.groupby('state').count()['old']\n",
    "        counts.index = counts.index.to_series().map(self.state_lookup)\n",
    "        print(counts)\n",
    "        \n",
    "    def run_query(self):\n",
    "        result = requests.post( \"https://api1.pagefreezer.com/v1/api/utils/diff/compare\", \n",
    "                  data=json.dumps({\"url1\":self.url_1, \"url2\":self.url_2}) , \n",
    "                  headers= { \"Accept\": \"application/json\", \"Content-Type\": \"application/json\", \"x-api-key\": self.api_key})\n",
    "        self.query_result = result.json()['result']\n",
    "        \n",
    "    def parse_to_df(self):        \n",
    "        old=[]\n",
    "        new=[]\n",
    "        offset=[]\n",
    "        state = []\n",
    "        for diff in self.query_result['output']['diffs']:\n",
    "            old.append(diff['old'])\n",
    "            new.append(diff['new'])\n",
    "            offset.append(diff['offset'])\n",
    "            state.append(diff['change'])\n",
    "        self.dataframe = pd.DataFrame({\"old\" : old, \"new\": new, \"offset\": offset, \"state\": state})\n",
    "    \n",
    "    def full_html_changes(self):\n",
    "        from IPython.display import display, HTML\n",
    "        display(HTML(self.query_result['output']['html']))\n",
    "        return self.query_result['output']['html']\n",
    "    \n",
    "    def to_csv(self, filename):\n",
    "        self.dataframe.to_csv(filename)\n",
    "        \n",
    "    def diff_pairs(self):\n",
    "        diff_pairs = [(elem['new'], elem['old']) for elem in self.query_result['output']['diffs']]\n",
    "        from IPython.display import display, HTML\n",
    "        for pair in diff_pairs:\n",
    "            display(HTML(pair[1]))\n",
    "        "
   ]
  },
  {
   "cell_type": "code",
   "execution_count": 4,
   "metadata": {
    "collapsed": false,
    "deletable": true,
    "editable": true
   },
   "outputs": [
    {
     "name": "stdout",
     "output_type": "stream",
     "text": [
      "('Delta Score: ', 0.000130324573349928, ' Number of changes: ', 3)\n",
      "state\n",
      "Change    3\n",
      "Name: old, dtype: int64\n"
     ]
    }
   ],
   "source": [
    "import os\n",
    "api_key = os.environ['PAGE_FREEZER_API_KEY']\n",
    "pf = PageFreezer('https://raw.githubusercontent.com/edgi-govdata-archiving/web-monitoring/master/example-data/falsepos-num-views-a.html','https://raw.githubusercontent.com/edgi-govdata-archiving/web-monitoring/master/example-data/falsepos-num-views-b.html',api_key)"
   ]
  },
  {
   "cell_type": "code",
   "execution_count": 5,
   "metadata": {
    "collapsed": false,
    "deletable": true,
    "editable": true
   },
   "outputs": [
    {
     "data": {
      "text/html": [
       "<div>\n",
       "<table border=\"1\" class=\"dataframe\">\n",
       "  <thead>\n",
       "    <tr style=\"text-align: right;\">\n",
       "      <th></th>\n",
       "      <th>new</th>\n",
       "      <th>offset</th>\n",
       "      <th>old</th>\n",
       "      <th>state</th>\n",
       "    </tr>\n",
       "  </thead>\n",
       "  <tbody>\n",
       "    <tr>\n",
       "      <th>0</th>\n",
       "      <td>Thursday,</td>\n",
       "      <td>13119</td>\n",
       "      <td>Wednesday,</td>\n",
       "      <td>0</td>\n",
       "    </tr>\n",
       "    <tr>\n",
       "      <th>1</th>\n",
       "      <td>02,</td>\n",
       "      <td>13215</td>\n",
       "      <td>01,</td>\n",
       "      <td>0</td>\n",
       "    </tr>\n",
       "    <tr>\n",
       "      <th>2</th>\n",
       "      <td>(4116)</td>\n",
       "      <td>89182</td>\n",
       "      <td>(4099)</td>\n",
       "      <td>0</td>\n",
       "    </tr>\n",
       "  </tbody>\n",
       "</table>\n",
       "</div>"
      ],
      "text/plain": [
       "          new  offset          old  state\n",
       "0  Thursday,    13119  Wednesday,       0\n",
       "1        02,    13215         01,       0\n",
       "2      (4116)   89182       (4099)      0"
      ]
     },
     "execution_count": 5,
     "metadata": {},
     "output_type": "execute_result"
    }
   ],
   "source": [
    "pf.dataframe"
   ]
  },
  {
   "cell_type": "code",
   "execution_count": 6,
   "metadata": {
    "collapsed": false,
    "deletable": true,
    "editable": true
   },
   "outputs": [
    {
     "data": {
      "text/html": [
       "<div>\n",
       "<table border=\"1\" class=\"dataframe\">\n",
       "  <thead>\n",
       "    <tr style=\"text-align: right;\">\n",
       "      <th></th>\n",
       "      <th>new</th>\n",
       "      <th>offset</th>\n",
       "      <th>old</th>\n",
       "      <th>state</th>\n",
       "    </tr>\n",
       "  </thead>\n",
       "  <tbody>\n",
       "    <tr>\n",
       "      <th>0</th>\n",
       "      <td>Thursday,</td>\n",
       "      <td>13119</td>\n",
       "      <td>Wednesday,</td>\n",
       "      <td>0</td>\n",
       "    </tr>\n",
       "    <tr>\n",
       "      <th>1</th>\n",
       "      <td>02,</td>\n",
       "      <td>13215</td>\n",
       "      <td>01,</td>\n",
       "      <td>0</td>\n",
       "    </tr>\n",
       "    <tr>\n",
       "      <th>2</th>\n",
       "      <td>(4116)</td>\n",
       "      <td>89182</td>\n",
       "      <td>(4099)</td>\n",
       "      <td>0</td>\n",
       "    </tr>\n",
       "  </tbody>\n",
       "</table>\n",
       "</div>"
      ],
      "text/plain": [
       "          new  offset          old  state\n",
       "0  Thursday,    13119  Wednesday,       0\n",
       "1        02,    13215         01,       0\n",
       "2      (4116)   89182       (4099)      0"
      ]
     },
     "execution_count": 6,
     "metadata": {},
     "output_type": "execute_result"
    }
   ],
   "source": [
    "pf.dataframe"
   ]
  },
  {
   "cell_type": "code",
   "execution_count": 7,
   "metadata": {
    "collapsed": false,
    "deletable": true,
    "editable": true
   },
   "outputs": [],
   "source": [
    "def get_PF_diff(url1,url2):\n",
    "    a = requests.post( \"https://api1.pagefreezer.com/v1/api/utils/diff/compare\", \n",
    "                  data=json.dumps({\"url1\":url1, \"url2\":url2}) , \n",
    "                  headers= { \"Accept\": \"application/json\", \"Content-Type\": \"application/json\", \"x-api-key\": os.environ['PAGE_FREEZER_API_KEY']})\n",
    "    return a.json()"
   ]
  },
  {
   "cell_type": "code",
   "execution_count": 8,
   "metadata": {
    "collapsed": true,
    "deletable": true,
    "editable": true
   },
   "outputs": [],
   "source": [
    "examples= {\n",
    "    \"truepos-dataset-removal\",\n",
    "    \"falsepos-num-views\",\n",
    "    'falsepos-small-changes',\n",
    "    'truepos-dataset-removal',\n",
    "    ''\n",
    "}"
   ]
  },
  {
   "cell_type": "code",
   "execution_count": 9,
   "metadata": {
    "collapsed": false,
    "deletable": true,
    "editable": true
   },
   "outputs": [],
   "source": [
    "a = get_PF_diff('https://raw.githubusercontent.com/edgi-govdata-archiving/web-monitoring/master/example-data/falsepos-num-views-a.html',\n",
    "           'https://raw.githubusercontent.com/edgi-govdata-archiving/web-monitoring/master/example-data/falsepos-num-views-b.html')"
   ]
  },
  {
   "cell_type": "code",
   "execution_count": 10,
   "metadata": {
    "collapsed": false,
    "deletable": true,
    "editable": true
   },
   "outputs": [],
   "source": [
    "from IPython.core.display import HTML\n",
    "\n",
    "with open('diff_output.html','w') as f :\n",
    "    f.write(a['result']['output']['html'].encode('utf-8'))"
   ]
  },
  {
   "cell_type": "code",
   "execution_count": 11,
   "metadata": {
    "collapsed": false,
    "deletable": true,
    "editable": true
   },
   "outputs": [
    {
     "data": {
      "text/html": [
       "Wednesday, "
      ],
      "text/plain": [
       "<IPython.core.display.HTML object>"
      ]
     },
     "metadata": {},
     "output_type": "display_data"
    },
    {
     "data": {
      "text/html": [
       "01, "
      ],
      "text/plain": [
       "<IPython.core.display.HTML object>"
      ]
     },
     "metadata": {},
     "output_type": "display_data"
    },
    {
     "data": {
      "text/html": [
       "(4099)"
      ],
      "text/plain": [
       "<IPython.core.display.HTML object>"
      ]
     },
     "metadata": {},
     "output_type": "display_data"
    }
   ],
   "source": [
    "diff_pairs = [(elem['new'], elem['old']) for elem in a['result']['output']['diffs']]\n",
    "from IPython.display import display, HTML\n",
    "for pair in diff_pairs:\n",
    "    display(HTML(pair[1]))"
   ]
  },
  {
   "cell_type": "code",
   "execution_count": 12,
   "metadata": {
    "collapsed": false,
    "deletable": true,
    "editable": true
   },
   "outputs": [
    {
     "data": {
      "text/html": [
       "<div>\n",
       "<table border=\"1\" class=\"dataframe\">\n",
       "  <thead>\n",
       "    <tr style=\"text-align: right;\">\n",
       "      <th></th>\n",
       "      <th>new</th>\n",
       "      <th>offset</th>\n",
       "      <th>old</th>\n",
       "      <th>state</th>\n",
       "    </tr>\n",
       "  </thead>\n",
       "  <tbody>\n",
       "    <tr>\n",
       "      <th>0</th>\n",
       "      <td>Thursday,</td>\n",
       "      <td>13119</td>\n",
       "      <td>Wednesday,</td>\n",
       "      <td>0</td>\n",
       "    </tr>\n",
       "    <tr>\n",
       "      <th>1</th>\n",
       "      <td>02,</td>\n",
       "      <td>13215</td>\n",
       "      <td>01,</td>\n",
       "      <td>0</td>\n",
       "    </tr>\n",
       "    <tr>\n",
       "      <th>2</th>\n",
       "      <td>(4116)</td>\n",
       "      <td>89182</td>\n",
       "      <td>(4099)</td>\n",
       "      <td>0</td>\n",
       "    </tr>\n",
       "  </tbody>\n",
       "</table>\n",
       "</div>"
      ],
      "text/plain": [
       "          new  offset          old  state\n",
       "0  Thursday,    13119  Wednesday,       0\n",
       "1        02,    13215         01,       0\n",
       "2      (4116)   89182       (4099)      0"
      ]
     },
     "execution_count": 12,
     "metadata": {},
     "output_type": "execute_result"
    }
   ],
   "source": [
    "old=[]\n",
    "new=[]\n",
    "offset=[]\n",
    "state = []\n",
    "for diff in a['result']['output']['diffs']:\n",
    "    old.append(diff['old'])\n",
    "    new.append(diff['new'])\n",
    "    offset.append(diff['offset'])\n",
    "    state.append(diff['change'])\n",
    "pd.DataFrame({\"old\" : old, \"new\": new, \"offset\": offset, \"state\": state})\n"
   ]
  },
  {
   "cell_type": "code",
   "execution_count": 13,
   "metadata": {
    "collapsed": false,
    "deletable": true,
    "editable": true
   },
   "outputs": [],
   "source": [
    "import json\n",
    "with open('example.json','w') as f :\n",
    "    #f.write(a.encode('utf-8'))\n",
    "    json.dump(a,f)\n",
    "    "
   ]
  },
  {
   "cell_type": "code",
   "execution_count": null,
   "metadata": {
    "collapsed": true,
    "deletable": true,
    "editable": true
   },
   "outputs": [],
   "source": []
  },
  {
   "cell_type": "code",
   "execution_count": null,
   "metadata": {
    "collapsed": false,
    "deletable": true,
    "editable": true
   },
   "outputs": [],
   "source": []
  },
  {
   "cell_type": "code",
   "execution_count": null,
   "metadata": {
    "collapsed": true,
    "deletable": true,
    "editable": true
   },
   "outputs": [],
   "source": []
  }
 ],
 "metadata": {
  "anaconda-cloud": {},
  "kernelspec": {
   "display_name": "Python 2",
   "language": "python",
   "name": "python2"
  },
  "language_info": {
   "codemirror_mode": {
    "name": "ipython",
    "version": 2
   },
   "file_extension": ".py",
   "mimetype": "text/x-python",
   "name": "python",
   "nbconvert_exporter": "python",
   "pygments_lexer": "ipython2",
   "version": "2.7.13"
  }
 },
 "nbformat": 4,
 "nbformat_minor": 1
}
