{
 "cells": [
  {
   "cell_type": "markdown",
   "metadata": {},
   "source": [
    "# web-monitoring backend demo\n",
    "\n",
    "1. Ingest a cache of captured HTML files, representing a **Page** as a series of **Versions** through time.\n",
    "2. Two Versions of the same Page are a **Change**.\n",
    "3. To examine a given Change, start by sending requests to PageFreezer. Store its respones (**Diffs**).\n",
    "4. Assign a Priority to each Change.\n",
    "4. Access prioritized Changes and store user-submitted **Annotations** (potentially multiple Annotations per Change.)"
   ]
  },
  {
   "cell_type": "code",
   "execution_count": 1,
   "metadata": {
    "collapsed": false
   },
   "outputs": [],
   "source": [
    "from datetime import datetime, timedelta\n",
    "import functools\n",
    "import hashlib\n",
    "import os\n",
    "\n",
    "import sqlalchemy\n",
    "from web_monitoring.db import (Pages, Versions, Changes, Diffs, Annotations, create,\n",
    "                               compare, NoAncestor, diff_version, logger)\n",
    "\n",
    "engine = sqlalchemy.create_engine(os.environ['WEB_MONITORING_SQL_DB_URI'])"
   ]
  },
  {
   "cell_type": "code",
   "execution_count": 2,
   "metadata": {
    "collapsed": false
   },
   "outputs": [],
   "source": [
    "create(engine)  # one time only: create tables\n",
    "\n",
    "# Reflect SQL tables in Python.\n",
    "versions = Versions(engine)\n",
    "pages = Pages(engine)\n",
    "changes = Changes(engine)\n",
    "diffs = Diffs(engine)\n",
    "annotations = Annotations(engine)"
   ]
  },
  {
   "cell_type": "markdown",
   "metadata": {},
   "source": [
    "## Ingesting new HTML\n",
    "\n",
    "Either manually or via some webhook, the backend is alerted that new captured HTML is avaialbe at some path.\n",
    "\n",
    "In this example, we load the example files in the web-monitoring repo."
   ]
  },
  {
   "cell_type": "code",
   "execution_count": 3,
   "metadata": {
    "collapsed": false
   },
   "outputs": [],
   "source": [
    "def load_examples():\n",
    "    EXAMPLES = [\n",
    "        'falsepos-footer',\n",
    "        'falsepos-num-views',\n",
    "        'falsepos-small-changes',\n",
    "        'truepos-dataset-removal',\n",
    "        'truepos-image-removal',\n",
    "        'truepos-major-changes',\n",
    "    ]\n",
    "    archives_dir = os.path.join('archives')\n",
    "    time1 = datetime.now()\n",
    "    time0 = time1 - timedelta(days=1)\n",
    "    for example in EXAMPLES:\n",
    "        simulated_url = 'https://PLACEHOLDER.com/{}.html'.format(example)\n",
    "        page_uuid = pages.insert(simulated_url, 'some page title', 'some agency', 'some site')\n",
    "        for suffix, _time in (('-a.html', time0), ('-b.html', time1)):\n",
    "            filename = example + suffix\n",
    "            path = os.path.abspath(os.path.join(archives_dir, filename))\n",
    "            with open(path) as f:\n",
    "                version_hash = hashlib.sha256(str(f.read()).encode()).hexdigest()\n",
    "            versions.insert(page_uuid, _time, path, version_hash, 'test', {})\n",
    "            \n",
    "load_examples()"
   ]
  },
  {
   "cell_type": "markdown",
   "metadata": {},
   "source": [
    "No we have a pile of unprocessed Snapshots. Some might be the first time we have seen a Page, while others might be just another Snapshot of a Page we have seen before."
   ]
  },
  {
   "cell_type": "code",
   "execution_count": 4,
   "metadata": {
    "collapsed": false
   },
   "outputs": [
    {
     "data": {
      "text/plain": [
       "deque(['43142531-6248-4e5c-92a7-8cedd5b237f2',\n",
       "       'd1c9d1b6-758f-4c32-a7af-23f6712cddc6',\n",
       "       'a71ab8fc-1692-4974-aadc-16aaaa61c461',\n",
       "       '3ecf477c-c269-42c7-88f1-acaa1ed8ecb1',\n",
       "       'a253491b-ead0-45b9-9039-162f72626485',\n",
       "       'd5540874-94f8-4ef8-8365-c23267be635a',\n",
       "       '892d8641-7b3d-46cd-8b54-ab6c1d2eef0a',\n",
       "       'e9f1922b-1254-4217-9746-17409a4a7c60',\n",
       "       '4a9133e6-ad8e-4363-90b5-a8886e64de23',\n",
       "       'fda9c053-facf-4530-a5b4-c262ba95a152',\n",
       "       'ce089f4e-9ddf-4d77-9c6d-36e98ad385ba',\n",
       "       'ca1c4725-a437-4fbd-a884-61c30635c321'])"
      ]
     },
     "execution_count": 4,
     "metadata": {},
     "output_type": "execute_result"
    }
   ],
   "source": [
    "versions.unprocessed"
   ]
  },
  {
   "cell_type": "markdown",
   "metadata": {},
   "source": [
    "The Python API provides uuid-based lookup and returns the data as a `namedtuple` (low memory footprint, convenient attribute access)."
   ]
  },
  {
   "cell_type": "code",
   "execution_count": 5,
   "metadata": {
    "collapsed": false
   },
   "outputs": [
    {
     "data": {
      "text/plain": [
       "Version(uuid='43142531-6248-4e5c-92a7-8cedd5b237f2', page_uuid='0b702ae9-a4f8-4f5e-958c-fce2036896ff', capture_time=datetime.datetime(2017, 3, 8, 14, 25, 46, 745157), uri='/Users/dallan/Documents/Repos/web-monitoring-processing/archives/falsepos-footer-a.html', version_hash='41af79e31884c6745834961f435cf233de702065b6bba032a82ec68fc5fd03b7', source_time='test', source_metadata={})"
      ]
     },
     "execution_count": 5,
     "metadata": {},
     "output_type": "execute_result"
    }
   ],
   "source": [
    "v = versions[versions.unprocessed[0]]\n",
    "v"
   ]
  },
  {
   "cell_type": "code",
   "execution_count": 6,
   "metadata": {
    "collapsed": false
   },
   "outputs": [
    {
     "data": {
      "text/plain": [
       "Page(uuid='0b702ae9-a4f8-4f5e-958c-fce2036896ff', url='https://PLACEHOLDER.com/falsepos-footer.html', title='some page title', agency='some agency', site='some site')"
      ]
     },
     "execution_count": 6,
     "metadata": {},
     "output_type": "execute_result"
    }
   ],
   "source": [
    "pages[v.page_uuid]"
   ]
  },
  {
   "cell_type": "markdown",
   "metadata": {},
   "source": [
    "## Computing Diffs between Snapshots\n",
    "\n",
    "Iterate through the unprocessed Snapshots and requests diffs from PageFreezer. Stash the JSON response (which is large) in a file on disk. Store the filepath, the two Snapshots' UUIDs, and other small summary info in the database."
   ]
  },
  {
   "cell_type": "code",
   "execution_count": 7,
   "metadata": {
    "collapsed": false
   },
   "outputs": [],
   "source": [
    "# Set up standard Python logging.\n",
    "import logging\n",
    "logging.basicConfig(level='DEBUG')\n",
    "# This logger will show progress with PageFreezer requests.\n",
    "logger.setLevel('DEBUG')\n",
    "\n",
    "def diff_new_versions():\n",
    "    f = functools.partial(diff_version, versions=versions, changes=changes, diffs=diffs,\n",
    "                          source_type='test', source_metadata={})\n",
    "    while True:\n",
    "        # Get the uuid of a Version to be processed.\n",
    "        try:\n",
    "            version_uuid  = versions.unprocessed.popleft()\n",
    "        except IndexError:\n",
    "            # nothing left to process\n",
    "            return\n",
    "        try:\n",
    "            f(version_uuid)\n",
    "        except NoAncestor:\n",
    "            # This is the oldest Version for this Page -- nothing to compare.\n",
    "            continue\n",
    "\n",
    "diff_new_versions()"
   ]
  },
  {
   "cell_type": "markdown",
   "metadata": {},
   "source": [
    "Logger output:\n",
    "```\n",
    "DEBUG:web_monitoring.db:Sending PageFreezer request...\n",
    "DEBUG:web_monitoring.db:Response received in 6.507 seconds with status ok.\n",
    "DEBUG:web_monitoring.db:Sending PageFreezer request...\n",
    "DEBUG:web_monitoring.db:Response received in 9.260 seconds with status ok.\n",
    "DEBUG:web_monitoring.db:Sending PageFreezer request...\n",
    "DEBUG:web_monitoring.db:Response received in 2.576 seconds with status ok.\n",
    "DEBUG:web_monitoring.db:Sending PageFreezer request...\n",
    "DEBUG:web_monitoring.db:Response received in 13.063 seconds with status ok.\n",
    "DEBUG:web_monitoring.db:Sending PageFreezer request...\n",
    "DEBUG:web_monitoring.db:Response received in 2.529 seconds with status ok.\n",
    "DEBUG:web_monitoring.db:Sending PageFreezer request...\n",
    "DEBUG:web_monitoring.db:Response received in 2.448 seconds with status ok.\n",
    "```"
   ]
  },
  {
   "cell_type": "markdown",
   "metadata": {},
   "source": [
    "Now we have Diffs that need to be prioritized."
   ]
  },
  {
   "cell_type": "code",
   "execution_count": 7,
   "metadata": {
    "collapsed": false
   },
   "outputs": [],
   "source": [
    "from collections import deque\n",
    "diffs.unprocessed = deque(['912bcfaf-d849-4c01-b76e-ed83e69749e8',\n",
    "       'a1912e06-b1c8-4513-9a45-aff35765700c',\n",
    "       '27e7bb72-1cad-4638-b126-df6182f25bd6',\n",
    "       '76ba3709-cd6a-4781-be7e-73324487a05e',\n",
    "       '016ed89e-c1cc-4aa5-b526-9cf446a90da7',\n",
    "       '2440e14e-6fc6-4df0-ad97-410c624977c8'])"
   ]
  },
  {
   "cell_type": "code",
   "execution_count": null,
   "metadata": {
    "collapsed": true
   },
   "outputs": [],
   "source": []
  },
  {
   "cell_type": "markdown",
   "metadata": {},
   "source": [
    "Accessing the diff from the Python API access that stashed JSON file and transparently fills it into the result. Since it's quite verbose, we'll just look at the *fields* here, not the values."
   ]
  },
  {
   "cell_type": "code",
   "execution_count": 18,
   "metadata": {
    "collapsed": false
   },
   "outputs": [
    {
     "data": {
      "text/plain": [
       "('uuid',\n",
       " 'change_uuid',\n",
       " 'diffhash',\n",
       " 'uri',\n",
       " 'source_type',\n",
       " 'source_metadata',\n",
       " 'content')"
      ]
     },
     "execution_count": 18,
     "metadata": {},
     "output_type": "execute_result"
    }
   ],
   "source": [
    "diffs[diffs.unprocessed[0]]._fields"
   ]
  },
  {
   "cell_type": "markdown",
   "metadata": {},
   "source": [
    "## Prioritizing Diffs\n",
    "\n",
    "Iterate through the unprocessed Diffs and assign a priority. This is where the clever text processing code would come in."
   ]
  },
  {
   "cell_type": "code",
   "execution_count": 20,
   "metadata": {
    "collapsed": false
   },
   "outputs": [
    {
     "data": {
      "text/plain": [
       "{'016ed89e-c1cc-4aa5-b526-9cf446a90da7': 0,\n",
       " '2440e14e-6fc6-4df0-ad97-410c624977c8': 0,\n",
       " '27e7bb72-1cad-4638-b126-df6182f25bd6': 0,\n",
       " '76ba3709-cd6a-4781-be7e-73324487a05e': 0,\n",
       " '912bcfaf-d849-4c01-b76e-ed83e69749e8': 0,\n",
       " 'a1912e06-b1c8-4513-9a45-aff35765700c': 0}"
      ]
     },
     "execution_count": 20,
     "metadata": {},
     "output_type": "execute_result"
    }
   ],
   "source": [
    "def assign_priorities(diff_uuids):\n",
    "    priorities = {}\n",
    "    for diff_uuid in diff_uuids:\n",
    "        d = diffs[diff_uuid]\n",
    "        priority = 0  # replace this with:  priority = clever_ML_routine(d)\n",
    "        priorities[diff_uuid] = priority\n",
    "    return priorities\n",
    "\n",
    "assign_priorities(diffs.unprocessed)"
   ]
  }
 ],
 "metadata": {
  "anaconda-cloud": {},
  "kernelspec": {
   "display_name": "Python 3",
   "language": "python",
   "name": "python3"
  },
  "language_info": {
   "codemirror_mode": {
    "name": "ipython",
    "version": 3
   },
   "file_extension": ".py",
   "mimetype": "text/x-python",
   "name": "python",
   "nbconvert_exporter": "python",
   "pygments_lexer": "ipython3",
   "version": "3.5.2"
  }
 },
 "nbformat": 4,
 "nbformat_minor": 1
}
