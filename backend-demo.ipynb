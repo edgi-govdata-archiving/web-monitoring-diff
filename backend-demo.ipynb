{
 "cells": [
  {
   "cell_type": "markdown",
   "metadata": {},
   "source": [
    "# web-monitoring backend demo\n",
    "\n",
    "1. Ingest a cache of captured HTML files, representing a **Page** as a series of **Versions** through time.\n",
    "2. Two Versions of the same Page are a **Change**.\n",
    "3. To examine a given Change, start by sending requests to PageFreezer. Store its respones (**Diffs**).\n",
    "4. Assign a Priority to each Change.\n",
    "4. Access prioritized Changes and store user-submitted **Annotations** (potentially multiple Annotations per Change.)"
   ]
  },
  {
   "cell_type": "code",
   "execution_count": 1,
   "metadata": {
    "collapsed": false
   },
   "outputs": [],
   "source": [
    "from datetime import datetime, timedelta\n",
    "import functools\n",
    "import hashlib\n",
    "import os\n",
    "\n",
    "import sqlalchemy\n",
    "from web_monitoring.db import (Pages, Versions, Diffs, Annotations, create,\n",
    "                               compare, NoAncestor, diff_version, logger)\n",
    "\n",
    "engine = sqlalchemy.create_engine(os.environ['WEB_MONITORING_SQL_DB_URI'])"
   ]
  },
  {
   "cell_type": "code",
   "execution_count": 2,
   "metadata": {
    "collapsed": false
   },
   "outputs": [],
   "source": [
    "create(engine)  # one time only: create tables\n",
    "\n",
    "# Reflect SQL tables in Python.\n",
    "versions = Versions(engine)\n",
    "pages = Pages(engine)\n",
    "diffs = Diffs(engine)\n",
    "annotations = Annotations(engine)"
   ]
  },
  {
   "cell_type": "markdown",
   "metadata": {},
   "source": [
    "## Ingesting new HTML\n",
    "\n",
    "Either manually or via some webhook, the backend is alerted that new captured HTML is avaialbe at some path.\n",
    "\n",
    "In this example, we load the example files in the web-monitoring repo."
   ]
  },
  {
   "cell_type": "code",
   "execution_count": 3,
   "metadata": {
    "collapsed": false
   },
   "outputs": [],
   "source": [
    "def load_examples():\n",
    "    EXAMPLES = [\n",
    "        'falsepos-footer',\n",
    "        'falsepos-num-views',\n",
    "        'falsepos-small-changes',\n",
    "        'truepos-dataset-removal',\n",
    "        'truepos-image-removal',\n",
    "        'truepos-major-changes',\n",
    "    ]\n",
    "    archives_dir = os.path.join('archives')\n",
    "    time1 = datetime.now()\n",
    "    time0 = time1 - timedelta(days=1)\n",
    "    for example in EXAMPLES:\n",
    "        simulated_url = 'https://PLACEHOLDER.com/{}.html'.format(example)\n",
    "        page_uuid = pages.insert(simulated_url, 'some page title', 'some agency', 'some site')\n",
    "        for suffix, _time in (('-a.html', time0), ('-b.html', time1)):\n",
    "            filename = example + suffix\n",
    "            path = os.path.abspath(os.path.join(archives_dir, filename))\n",
    "            with open(path) as f:\n",
    "                version_hash = hashlib.sha256(str(f.read()).encode()).hexdigest()\n",
    "            versions.insert(page_uuid, _time, path, version_hash, 'test', {})\n",
    "            \n",
    "load_examples()"
   ]
  },
  {
   "cell_type": "markdown",
   "metadata": {},
   "source": [
    "No we have a pile of unprocessed Snapshots. Some might be the first time we have seen a Page, while others might be just another Snapshot of a Page we have seen before."
   ]
  },
  {
   "cell_type": "code",
   "execution_count": 4,
   "metadata": {
    "collapsed": false
   },
   "outputs": [
    {
     "data": {
      "text/plain": [
       "deque(['129918b1-43a7-46dd-a7c3-bf1cff06d043',\n",
       "       '4403cbe4-4b1b-4fa9-b481-37b7b8bc8127',\n",
       "       'd9ef4261-7340-4969-a823-3dd89d6c2565',\n",
       "       '032252ac-fbb1-4994-892d-4d88dd28fd19',\n",
       "       'ca981bb8-c0d7-4538-b801-fa9c5ed07e2c',\n",
       "       'bad7db40-3996-42f5-81b4-d4b816185c90',\n",
       "       '6e70f0e7-a931-4f8e-a73d-ca1d3a212dec',\n",
       "       'cb0aff43-b50c-42ed-8d25-71b99d8ba7f5',\n",
       "       '023ae577-87a1-46e2-af64-f233183f9a76',\n",
       "       '5ab820a7-73ec-4aee-be44-ecf4cc61f514',\n",
       "       '2996f0e7-3631-4c10-b6b5-784d2d98eaa4',\n",
       "       '62ffe2ed-9ffd-4b3c-a307-c5cfd8308bdd'])"
      ]
     },
     "execution_count": 4,
     "metadata": {},
     "output_type": "execute_result"
    }
   ],
   "source": [
    "versions.unprocessed"
   ]
  },
  {
   "cell_type": "markdown",
   "metadata": {},
   "source": [
    "The Python API provides uuid-based lookup and returns the data as a `namedtuple` (low memory footprint, convenient attribute access)."
   ]
  },
  {
   "cell_type": "code",
   "execution_count": 5,
   "metadata": {
    "collapsed": false
   },
   "outputs": [
    {
     "data": {
      "text/plain": [
       "Version(uuid='129918b1-43a7-46dd-a7c3-bf1cff06d043', page_uuid='4e591197-9475-4f2b-a0ea-3331809d8ce5', capture_time=datetime.datetime(2017, 3, 21, 17, 28, 4, 459319), uri='/Users/dallan/Documents/Repos/web-monitoring-processing/archives/falsepos-footer-a.html', version_hash='41af79e31884c6745834961f435cf233de702065b6bba032a82ec68fc5fd03b7', source_time='test', source_metadata={})"
      ]
     },
     "execution_count": 5,
     "metadata": {},
     "output_type": "execute_result"
    }
   ],
   "source": [
    "v = versions[versions.unprocessed[0]]\n",
    "v"
   ]
  },
  {
   "cell_type": "code",
   "execution_count": 6,
   "metadata": {
    "collapsed": false
   },
   "outputs": [
    {
     "data": {
      "text/plain": [
       "Page(uuid='4e591197-9475-4f2b-a0ea-3331809d8ce5', url='https://PLACEHOLDER.com/falsepos-footer.html', title='some page title', agency='some agency', site='some site')"
      ]
     },
     "execution_count": 6,
     "metadata": {},
     "output_type": "execute_result"
    }
   ],
   "source": [
    "pages[v.page_uuid]"
   ]
  },
  {
   "cell_type": "markdown",
   "metadata": {},
   "source": [
    "## Computing Diffs between Snapshots\n",
    "\n",
    "Iterate through the unprocessed Snapshots and requests diffs from PageFreezer. Stash the JSON response (which is large) in a file on disk. Store the filepath, the two Snapshots' UUIDs, and other small summary info in the database."
   ]
  },
  {
   "cell_type": "code",
   "execution_count": 7,
   "metadata": {
    "collapsed": false
   },
   "outputs": [],
   "source": [
    "# Set up standard Python logging.\n",
    "import logging\n",
    "logging.basicConfig(level='DEBUG')\n",
    "# This logger will show progress with PageFreezer requests.\n",
    "logger.setLevel('DEBUG')\n",
    "\n",
    "def diff_new_versions():\n",
    "    f = functools.partial(diff_version, versions=versions, diffs=diffs,\n",
    "                          source_type='test', source_metadata={})\n",
    "    while True:\n",
    "        # Get the uuid of a Version to be processed.\n",
    "        try:\n",
    "            version_uuid  = versions.unprocessed.popleft()\n",
    "        except IndexError:\n",
    "            # nothing left to process\n",
    "            return\n",
    "        try:\n",
    "            f(version_uuid)\n",
    "        except NoAncestor:\n",
    "            # This is the oldest Version for this Page -- nothing to compare.\n",
    "            continue\n",
    "\n",
    "diff_new_versions()"
   ]
  },
  {
   "cell_type": "markdown",
   "metadata": {},
   "source": [
    "Logger output:\n",
    "```\n",
    "DEBUG:web_monitoring.db:Sending PageFreezer request...\n",
    "DEBUG:web_monitoring.db:Response received in 6.507 seconds with status ok.\n",
    "DEBUG:web_monitoring.db:Sending PageFreezer request...\n",
    "DEBUG:web_monitoring.db:Response received in 9.260 seconds with status ok.\n",
    "DEBUG:web_monitoring.db:Sending PageFreezer request...\n",
    "DEBUG:web_monitoring.db:Response received in 2.576 seconds with status ok.\n",
    "DEBUG:web_monitoring.db:Sending PageFreezer request...\n",
    "DEBUG:web_monitoring.db:Response received in 13.063 seconds with status ok.\n",
    "DEBUG:web_monitoring.db:Sending PageFreezer request...\n",
    "DEBUG:web_monitoring.db:Response received in 2.529 seconds with status ok.\n",
    "DEBUG:web_monitoring.db:Sending PageFreezer request...\n",
    "DEBUG:web_monitoring.db:Response received in 2.448 seconds with status ok.\n",
    "```"
   ]
  },
  {
   "cell_type": "markdown",
   "metadata": {},
   "source": [
    "Now we have Diffs that need to be prioritized."
   ]
  },
  {
   "cell_type": "markdown",
   "metadata": {},
   "source": [
    "Accessing the diff from the Python API access that stashed JSON file and transparently fills it into the result. Since it's quite verbose, we'll just look at the *fields* here, not the values."
   ]
  },
  {
   "cell_type": "code",
   "execution_count": 8,
   "metadata": {
    "collapsed": false
   },
   "outputs": [
    {
     "data": {
      "text/plain": [
       "('uuid',\n",
       " 'version_from',\n",
       " 'version_to',\n",
       " 'diffhash',\n",
       " 'uri',\n",
       " 'source_type',\n",
       " 'source_metadata',\n",
       " 'content')"
      ]
     },
     "execution_count": 8,
     "metadata": {},
     "output_type": "execute_result"
    }
   ],
   "source": [
    "diffs[diffs.unprocessed[0]]._fields"
   ]
  },
  {
   "cell_type": "markdown",
   "metadata": {},
   "source": [
    "## Prioritizing Diffs\n",
    "\n",
    "Iterate through the unprocessed Diffs and assign a priority. This is where the clever text processing code would come in."
   ]
  },
  {
   "cell_type": "code",
   "execution_count": 9,
   "metadata": {
    "collapsed": false
   },
   "outputs": [
    {
     "data": {
      "text/plain": [
       "{'0295a42f-01ae-4273-8783-cf73fc912a9c': 0,\n",
       " '1046caa6-07a2-46c6-9737-d3da23194909': 0,\n",
       " '7b33801d-553f-476e-bdf2-690f07511c80': 0,\n",
       " '97d95f38-dd18-4eca-8093-6d31df792507': 0,\n",
       " 'f6c3c688-a8fd-40a7-b369-f74169bb8c7d': 0,\n",
       " 'f9271b3b-26c9-4045-aa19-38b88711d6f5': 0}"
      ]
     },
     "execution_count": 9,
     "metadata": {},
     "output_type": "execute_result"
    }
   ],
   "source": [
    "def assign_priorities(diff_uuids):\n",
    "    priorities = {}\n",
    "    for diff_uuid in diff_uuids:\n",
    "        d = diffs[diff_uuid]\n",
    "        priority = 0  # replace this with:  priority = clever_ML_routine(d)\n",
    "        priorities[diff_uuid] = priority\n",
    "    return priorities\n",
    "\n",
    "assign_priorities(diffs.unprocessed)"
   ]
  }
 ],
 "metadata": {
  "anaconda-cloud": {},
  "kernelspec": {
   "display_name": "Python 3",
   "language": "python",
   "name": "python3"
  },
  "language_info": {
   "codemirror_mode": {
    "name": "ipython",
    "version": 3
   },
   "file_extension": ".py",
   "mimetype": "text/x-python",
   "name": "python",
   "nbconvert_exporter": "python",
   "pygments_lexer": "ipython3",
   "version": "3.5.2"
  }
 },
 "nbformat": 4,
 "nbformat_minor": 1
}
