{
 "cells": [
  {
   "cell_type": "markdown",
   "metadata": {},
   "source": [
    "# web-monitoring backend demo\n",
    "\n",
    "1. Ingest a cache of captured HTML files, representing a **Page** as a series of **Snapshots** through time.\n",
    "2. Compare Snapshots of the same Page by sending requests to PageFreezer. Store the respones (**Diffs**).\n",
    "3. Assign **Priorities** to the Diffs.\n",
    "4. Access prioritized diffs through a **Work Queue** that assigns diffs to users in priority order.\n",
    "5. Store user-submitted **Annotations** of a Diff (potentially multiple per diff.)"
   ]
  },
  {
   "cell_type": "code",
   "execution_count": 1,
   "metadata": {
    "collapsed": true
   },
   "outputs": [],
   "source": [
    "import functools\n",
    "from datetime import datetime, timedelta\n",
    "import os\n",
    "\n",
    "import sqlalchemy\n",
    "from web_monitoring.db import (Pages, Snapshots, Diffs, Priorities, WorkQueue, Annotations, create,\n",
    "                               compare, NoAncestor, diff_snapshot, logger)\n",
    "\n",
    "engine = sqlalchemy.create_engine(os.environ['WEB_MONITORING_SQL_DB_URI'])"
   ]
  },
  {
   "cell_type": "code",
   "execution_count": 2,
   "metadata": {
    "collapsed": true
   },
   "outputs": [],
   "source": [
    "create(engine)  # one time only: create tables\n",
    "\n",
    "# Reflect SQL tables in Python.\n",
    "snapshots = Snapshots(engine)\n",
    "pages = Pages(engine)\n",
    "diffs = Diffs(engine)\n",
    "annotations = Annotations(engine)\n",
    "priorities = Priorities(engine)"
   ]
  },
  {
   "cell_type": "markdown",
   "metadata": {},
   "source": [
    "## Ingesting new HTML\n",
    "\n",
    "Either manually or via some webhook, the backend is alerted that new captured HTML is avaialbe at some path.\n",
    "\n",
    "In this example, we load the example files in the web-monitoring repo."
   ]
  },
  {
   "cell_type": "code",
   "execution_count": 3,
   "metadata": {
    "collapsed": true
   },
   "outputs": [],
   "source": [
    "def load_examples():\n",
    "    EXAMPLES = [\n",
    "        'falsepos-footer',\n",
    "        'falsepos-num-views',\n",
    "        'falsepos-small-changes',\n",
    "        'truepos-dataset-removal',\n",
    "        'truepos-image-removal',\n",
    "        'truepos-major-changes',\n",
    "    ]\n",
    "    archives_dir = os.path.join('archives')\n",
    "    time1 = datetime.now()\n",
    "    time0 = time1 - timedelta(days=1)\n",
    "    for example in EXAMPLES:\n",
    "        simulated_url = 'https://PLACEHOLDER.com/{}.html'.format(example)\n",
    "        page_uuid = pages.insert(simulated_url)\n",
    "        for suffix, _time in (('-a.html', time0), ('-b.html', time1)):\n",
    "            filename = example + suffix\n",
    "            path = os.path.abspath(os.path.join(archives_dir, filename))\n",
    "            snapshots.insert(page_uuid, _time, path)\n",
    "            \n",
    "load_examples()"
   ]
  },
  {
   "cell_type": "markdown",
   "metadata": {},
   "source": [
    "No we have a pile of unprocessed Snapshots. Some might be the first time we have seen a Page, while others might be just another Snapshot of a Page we have seen before."
   ]
  },
  {
   "cell_type": "code",
   "execution_count": 4,
   "metadata": {
    "collapsed": false
   },
   "outputs": [
    {
     "data": {
      "text/plain": [
       "deque(['8adba7b6-a3c8-400a-9bed-029e462951a9',\n",
       "       '6bc1de9f-7ed0-43c1-89d5-0c12b30baa7d',\n",
       "       '8981eb5c-0abd-4adb-a52d-7fb23e3b3398',\n",
       "       '18959ab8-5c62-406a-9a26-f90cdc5d4b49',\n",
       "       'beb4c10d-ba6c-4f4c-821b-0eec103ede0c',\n",
       "       '9564fd0b-568e-420b-a3ec-10a434b92e2f',\n",
       "       '2ae058c5-41a1-4211-ab17-110cc9a83c7b',\n",
       "       'a7656b01-a852-4277-bcee-f6092be95e62',\n",
       "       '807ad480-6693-4ad9-8973-8b968c0c9224',\n",
       "       'd196b61b-21ae-4524-88a6-ec904084765f',\n",
       "       '2e49867d-cda1-4a21-8f69-4b5d7b90cc09',\n",
       "       '09b3bbd7-4c44-4ff9-8922-ce786ad0a0ee'])"
      ]
     },
     "execution_count": 4,
     "metadata": {},
     "output_type": "execute_result"
    }
   ],
   "source": [
    "snapshots.unprocessed"
   ]
  },
  {
   "cell_type": "markdown",
   "metadata": {},
   "source": [
    "The Python API provides uuid-based lookup and returns the data as a `namedtuple` (low memory footprint, convenient attribute access)."
   ]
  },
  {
   "cell_type": "code",
   "execution_count": 5,
   "metadata": {
    "collapsed": false
   },
   "outputs": [
    {
     "data": {
      "text/plain": [
       "Snapshot(uuid='8adba7b6-a3c8-400a-9bed-029e462951a9', page_uuid='2fd62ccf-678e-4c3e-babe-041a3e41ba22', capture_time=datetime.datetime(2017, 2, 27, 16, 57, 1, 575553), path='/Users/dallan/Documents/Repos/web-monitoring/archives/falsepos-footer-a.html')"
      ]
     },
     "execution_count": 5,
     "metadata": {},
     "output_type": "execute_result"
    }
   ],
   "source": [
    "s = snapshots[snapshots.unprocessed[0]]\n",
    "s"
   ]
  },
  {
   "cell_type": "code",
   "execution_count": 6,
   "metadata": {
    "collapsed": false
   },
   "outputs": [
    {
     "data": {
      "text/plain": [
       "Page(uuid='2fd62ccf-678e-4c3e-babe-041a3e41ba22', url='https://PLACEHOLDER.com/falsepos-footer.html', title='', agency='', site='')"
      ]
     },
     "execution_count": 6,
     "metadata": {},
     "output_type": "execute_result"
    }
   ],
   "source": [
    "pages[s.page_uuid]"
   ]
  },
  {
   "cell_type": "markdown",
   "metadata": {},
   "source": [
    "## Computing Diffs between Snapshots\n",
    "\n",
    "Iterate through the unprocessed Snapshots and requests diffs from PageFreezer. Stash the JSON response (which is large) in a file on disk. Store the filepath, the two Snapshots' UUIDs, and other small summary info in the database."
   ]
  },
  {
   "cell_type": "code",
   "execution_count": 7,
   "metadata": {
    "collapsed": true
   },
   "outputs": [],
   "source": [
    "# Set up standard Python logging.\n",
    "import logging\n",
    "logging.basicConfig(level='DEBUG')\n",
    "# This logger will show progress with PageFreezer requests.\n",
    "logger.setLevel('DEBUG')\n",
    "\n",
    "def diff_new_snapshots():\n",
    "    f = functools.partial(diff_snapshot, snapshots=snapshots, diffs=diffs)\n",
    "    while True:\n",
    "        # Get the uuid of a Snapshot to be processed.\n",
    "        try:\n",
    "            snapshot_uuid = snapshots.unprocessed.popleft()\n",
    "        except IndexError:\n",
    "            # nothing left to process\n",
    "            return\n",
    "        try:\n",
    "            f(snapshot_uuid)\n",
    "        except NoAncestor:\n",
    "            # This is the oldest Snapshot for this Page -- nothing to compare.\n",
    "            continue\n",
    "\n",
    "diff_new_snapshots()"
   ]
  },
  {
   "cell_type": "markdown",
   "metadata": {},
   "source": [
    "Logger output:\n",
    "```\n",
    "DEBUG:web_monitoring.db:Sending PageFreezer request...\n",
    "DEBUG:web_monitoring.db:Response received in 6.507 seconds with status ok.\n",
    "DEBUG:web_monitoring.db:Sending PageFreezer request...\n",
    "DEBUG:web_monitoring.db:Response received in 9.260 seconds with status ok.\n",
    "DEBUG:web_monitoring.db:Sending PageFreezer request...\n",
    "DEBUG:web_monitoring.db:Response received in 2.576 seconds with status ok.\n",
    "DEBUG:web_monitoring.db:Sending PageFreezer request...\n",
    "DEBUG:web_monitoring.db:Response received in 13.063 seconds with status ok.\n",
    "DEBUG:web_monitoring.db:Sending PageFreezer request...\n",
    "DEBUG:web_monitoring.db:Response received in 2.529 seconds with status ok.\n",
    "DEBUG:web_monitoring.db:Sending PageFreezer request...\n",
    "DEBUG:web_monitoring.db:Response received in 2.448 seconds with status ok.\n",
    "```"
   ]
  },
  {
   "cell_type": "markdown",
   "metadata": {},
   "source": [
    "Now we have Diffs that need to be prioritized."
   ]
  },
  {
   "cell_type": "code",
   "execution_count": 8,
   "metadata": {
    "collapsed": false
   },
   "outputs": [
    {
     "data": {
      "text/plain": [
       "deque(['219ba583-bf0b-4610-9794-7a5a50461c55',\n",
       "       '78b02f15-5ea2-4741-ba2c-265bff5091b3',\n",
       "       '4ae1b697-8bd5-4a69-b47f-1013d0456ed3',\n",
       "       'cc81208d-329e-4e4e-91df-179e0e8328ad',\n",
       "       'ad162c4a-b6b0-4000-83c2-8c0aa028f745',\n",
       "       '9a8373e5-5855-4e57-bc9f-0761eed83a9b'])"
      ]
     },
     "execution_count": 8,
     "metadata": {},
     "output_type": "execute_result"
    }
   ],
   "source": [
    "diffs.unprocessed"
   ]
  },
  {
   "cell_type": "markdown",
   "metadata": {},
   "source": [
    "Accessing the diff from the Python API access that stashed JSON file and transparently fills it into the result, so it's quite verbose. We'll just look at the field names here."
   ]
  },
  {
   "cell_type": "code",
   "execution_count": 9,
   "metadata": {
    "collapsed": false
   },
   "outputs": [
    {
     "data": {
      "text/plain": [
       "('uuid', 'diffhash', 'uuid1', 'uuid2', 'result', 'annotation')"
      ]
     },
     "execution_count": 9,
     "metadata": {},
     "output_type": "execute_result"
    }
   ],
   "source": [
    "diffs[diffs.unprocessed[0]]._fields"
   ]
  },
  {
   "cell_type": "markdown",
   "metadata": {},
   "source": [
    "## Prioritizing Diffs\n",
    "\n",
    "Iterate through the unprocessed Diffs and assign a priority. This is where the clever text processing code would come in."
   ]
  },
  {
   "cell_type": "code",
   "execution_count": 10,
   "metadata": {
    "collapsed": true
   },
   "outputs": [],
   "source": [
    "def assign_priorities():\n",
    "    while True:\n",
    "        try:\n",
    "            diff_uuid = diffs.unprocessed.popleft()\n",
    "        except IndexError:\n",
    "            # Nothing left to do.\n",
    "            return\n",
    "            \n",
    "        # d = diffs[diff_uuid]\n",
    "        # priority = clever_ML_routine(d)\n",
    "        priority = 1  # simple case for now\n",
    "        priorities.insert(diff_uuid, priority)\n",
    "\n",
    "assign_priorities()"
   ]
  },
  {
   "cell_type": "markdown",
   "metadata": {},
   "source": [
    "## Annotating Diffs\n",
    "\n",
    "**This stuff will probably get replaced by something on the Rails side.**\n",
    "\n",
    "The WorkQueue interfaces with Priorities and Diffs and keeps track of what is currently being evaluated by a user."
   ]
  },
  {
   "cell_type": "code",
   "execution_count": 11,
   "metadata": {
    "collapsed": true
   },
   "outputs": [],
   "source": [
    "work_queue = WorkQueue(priorities, diffs)"
   ]
  },
  {
   "cell_type": "code",
   "execution_count": 12,
   "metadata": {
    "collapsed": true
   },
   "outputs": [],
   "source": [
    "user_id = 1  # could potentially be associated with domain of expertise/interest\n",
    "diff = work_queue.checkout_next(user_id)  # get the next-highest-priority diff"
   ]
  },
  {
   "cell_type": "code",
   "execution_count": 13,
   "metadata": {
    "collapsed": false
   },
   "outputs": [
    {
     "data": {
      "text/plain": [
       "'07ed0635-ee83-4373-b9a3-2b7ceb1bdd88'"
      ]
     },
     "execution_count": 13,
     "metadata": {},
     "output_type": "execute_result"
    }
   ],
   "source": [
    "a = {'interesting': True}  # for example ... this would really have ~20 keys\n",
    "annotations.insert(diff.uuid, a)"
   ]
  },
  {
   "cell_type": "code",
   "execution_count": 17,
   "metadata": {
    "collapsed": true
   },
   "outputs": [],
   "source": [
    "diff = work_queue.checkin(user_id)  # release the lock on the last diff\n",
    "diff = work_queue.checkout_next(user_id)  # get the next-highest-priority diff"
   ]
  }
 ],
 "metadata": {
  "anaconda-cloud": {},
  "kernelspec": {
   "display_name": "Python 3",
   "language": "python",
   "name": "python3"
  },
  "language_info": {
   "codemirror_mode": {
    "name": "ipython",
    "version": 3
   },
   "file_extension": ".py",
   "mimetype": "text/x-python",
   "name": "python",
   "nbconvert_exporter": "python",
   "pygments_lexer": "ipython3",
   "version": "3.5.2"
  }
 },
 "nbformat": 4,
 "nbformat_minor": 1
}
